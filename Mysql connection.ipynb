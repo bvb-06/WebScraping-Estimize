{
 "cells": [
  {
   "cell_type": "code",
   "execution_count": 1,
   "id": "2d9dbb42",
   "metadata": {},
   "outputs": [],
   "source": [
    "from sqlalchemy import create_engine\n",
    "import pandas as pd"
   ]
  },
  {
   "cell_type": "code",
   "execution_count": 2,
   "id": "2f645b90",
   "metadata": {},
   "outputs": [
    {
     "name": "stdout",
     "output_type": "stream",
     "text": [
      "Collecting pymysql\n",
      "  Obtaining dependency information for pymysql from https://files.pythonhosted.org/packages/e5/30/20467e39523d0cfc2b6227902d3687a16364307260c75e6a1cb4422b0c62/PyMySQL-1.1.0-py3-none-any.whl.metadata\n",
      "  Using cached PyMySQL-1.1.0-py3-none-any.whl.metadata (4.4 kB)\n",
      "Using cached PyMySQL-1.1.0-py3-none-any.whl (44 kB)\n",
      "Installing collected packages: pymysql\n",
      "Successfully installed pymysql-1.1.0\n"
     ]
    }
   ],
   "source": [
    "!pip install pymysql"
   ]
  },
  {
   "cell_type": "code",
   "execution_count": 3,
   "id": "3916207d",
   "metadata": {},
   "outputs": [],
   "source": [
    "from sqlalchemy import create_engine\n",
    "from urllib.parse import quote\n",
    "\n",
    "# Replace 'your_username', 'your_password', 'your_host', and 'your_database' with your MySQL credentials\n",
    "username = 'root'\n",
    "password = 'bvb1801'\n",
    "host = '127.0.0.1'\n",
    "database = 'msa8040'\n",
    "\n",
    "# URL-encode the password\n",
    "password = quote(password)\n",
    "\n",
    "# Create the engine\n",
    "engine = create_engine(f'mysql+pymysql://{username}:{password}@{host}/{database}')\n"
   ]
  },
  {
   "cell_type": "code",
   "execution_count": 9,
   "id": "c9157ad9",
   "metadata": {},
   "outputs": [],
   "source": [
    "df1 = pd.read_csv('EPSDATA.csv')\n",
    "df2 = pd.read_csv('COMPANYDATA.csv')\n",
    "df3 = pd.read_csv('ANALYSTINFODATA.csv', encoding='latin1')\n",
    "\n"
   ]
  },
  {
   "cell_type": "code",
   "execution_count": 10,
   "id": "295b8584",
   "metadata": {},
   "outputs": [
    {
     "name": "stderr",
     "output_type": "stream",
     "text": [
      "C:\\Users\\BVB\\AppData\\Local\\Temp\\ipykernel_19108\\3956606583.py:1: UserWarning: The provided table name 'EPSDATA' is not found exactly as such in the database after writing the table, possibly due to case sensitivity issues. Consider using lower case table names.\n",
      "  df1.to_sql('EPSDATA', con = engine, if_exists = 'append', chunksize = 1000, index=False)\n"
     ]
    },
    {
     "data": {
      "text/plain": [
       "11861"
      ]
     },
     "execution_count": 10,
     "metadata": {},
     "output_type": "execute_result"
    }
   ],
   "source": [
    "df1.to_sql('EPSDATA', con = engine, if_exists = 'append', chunksize = 1000, index=False)"
   ]
  },
  {
   "cell_type": "code",
   "execution_count": 11,
   "id": "86b2c75f",
   "metadata": {},
   "outputs": [
    {
     "name": "stderr",
     "output_type": "stream",
     "text": [
      "C:\\Users\\BVB\\AppData\\Local\\Temp\\ipykernel_19108\\1421973142.py:1: UserWarning: The provided table name 'COMPANYDATA' is not found exactly as such in the database after writing the table, possibly due to case sensitivity issues. Consider using lower case table names.\n",
      "  df2.to_sql('COMPANYDATA', con = engine, if_exists = 'append', chunksize = 1000, index=False)\n"
     ]
    },
    {
     "data": {
      "text/plain": [
       "352"
      ]
     },
     "execution_count": 11,
     "metadata": {},
     "output_type": "execute_result"
    }
   ],
   "source": [
    "df2.to_sql('COMPANYDATA', con = engine, if_exists = 'append', chunksize = 1000, index=False)"
   ]
  },
  {
   "cell_type": "code",
   "execution_count": 12,
   "id": "0d09491c",
   "metadata": {},
   "outputs": [
    {
     "name": "stderr",
     "output_type": "stream",
     "text": [
      "C:\\Users\\BVB\\AppData\\Local\\Temp\\ipykernel_19108\\3514334223.py:1: UserWarning: The provided table name 'ANALYSTINFODATA' is not found exactly as such in the database after writing the table, possibly due to case sensitivity issues. Consider using lower case table names.\n",
      "  df3.to_sql('ANALYSTINFODATA', con = engine, if_exists = 'append', chunksize = 1000, index=False)\n"
     ]
    },
    {
     "data": {
      "text/plain": [
       "3791"
      ]
     },
     "execution_count": 12,
     "metadata": {},
     "output_type": "execute_result"
    }
   ],
   "source": [
    "df3.to_sql('ANALYSTINFODATA', con = engine, if_exists = 'append', chunksize = 1000, index=False)"
   ]
  },
  {
   "cell_type": "code",
   "execution_count": null,
   "id": "f5ddfbda",
   "metadata": {},
   "outputs": [],
   "source": []
  }
 ],
 "metadata": {
  "kernelspec": {
   "display_name": "Python 3 (ipykernel)",
   "language": "python",
   "name": "python3"
  },
  "language_info": {
   "codemirror_mode": {
    "name": "ipython",
    "version": 3
   },
   "file_extension": ".py",
   "mimetype": "text/x-python",
   "name": "python",
   "nbconvert_exporter": "python",
   "pygments_lexer": "ipython3",
   "version": "3.11.5"
  }
 },
 "nbformat": 4,
 "nbformat_minor": 5
}
